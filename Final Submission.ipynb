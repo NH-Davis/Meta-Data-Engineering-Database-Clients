{
 "cells": [
  {
   "cell_type": "code",
   "execution_count": 78,
   "id": "d93744b5",
   "metadata": {},
   "outputs": [
    {
     "name": "stdout",
     "output_type": "stream",
     "text": [
      "Requirement already satisfied: mysql-connector-python in c:\\users\\nhart\\anaconda3\\lib\\site-packages (8.3.0)\n"
     ]
    }
   ],
   "source": [
    "!pip install mysql-connector-python"
   ]
  },
  {
   "cell_type": "code",
   "execution_count": 79,
   "id": "2e4b18c4",
   "metadata": {},
   "outputs": [],
   "source": [
    "import mysql.connector as connector"
   ]
  },
  {
   "cell_type": "code",
   "execution_count": 80,
   "id": "49816078",
   "metadata": {},
   "outputs": [],
   "source": [
    "connection = connector.connect(host = \"localhost\", user =\"root\", password = \"Fairfield2024!\")"
   ]
  },
  {
   "cell_type": "code",
   "execution_count": 81,
   "id": "c9d7b3f7",
   "metadata": {},
   "outputs": [],
   "source": [
    "cursor=connection.cursor()"
   ]
  },
  {
   "cell_type": "code",
   "execution_count": 82,
   "id": "9cd3fc4e",
   "metadata": {},
   "outputs": [],
   "source": [
    "cursor.execute(\"CREATE DATABASE little_lemon_dbv6\")"
   ]
  },
  {
   "cell_type": "code",
   "execution_count": 83,
   "id": "fabd97ca",
   "metadata": {},
   "outputs": [],
   "source": [
    "cursor.execute(\"USE little_lemon_dbv6\")"
   ]
  },
  {
   "cell_type": "code",
   "execution_count": 84,
   "id": "e972a721",
   "metadata": {},
   "outputs": [],
   "source": [
    "#MenuItems table\n",
    "create_menuitem_table = \"\"\"CREATE TABLE MenuItems (\n",
    "ItemID INT AUTO_INCREMENT,\n",
    "Name VARCHAR(200),\n",
    "Type VARCHAR(100),\n",
    "Price INT,\n",
    "PRIMARY KEY (ItemID)\n",
    ");\"\"\""
   ]
  },
  {
   "cell_type": "code",
   "execution_count": 85,
   "id": "a1710af8",
   "metadata": {},
   "outputs": [],
   "source": [
    "create_menu_table = \"\"\"CREATE TABLE Menus (\n",
    "MenuID INT,\n",
    "ItemID INT,\n",
    "Cuisine VARCHAR(100),\n",
    "PRIMARY KEY (MenuID,ItemID)\n",
    ");\"\"\""
   ]
  },
  {
   "cell_type": "code",
   "execution_count": 86,
   "id": "5429a7d4",
   "metadata": {},
   "outputs": [],
   "source": [
    "create_booking_table = \"\"\"CREATE TABLE Bookings (\n",
    "BookingID INT AUTO_INCREMENT,\n",
    "TableNo INT,\n",
    "GuestFirstName VARCHAR(100) NOT NULL,\n",
    "GuestLastName VARCHAR(100) NOT NULL,\n",
    "BookingSlot TIME NOT NULL,\n",
    "EmployeeID INT,\n",
    "PRIMARY KEY (BookingID)\n",
    ");\"\"\""
   ]
  },
  {
   "cell_type": "code",
   "execution_count": 87,
   "id": "e3b81a89",
   "metadata": {},
   "outputs": [],
   "source": [
    "create_orders_table = \"\"\"CREATE TABLE Orders (\n",
    "OrderID INT,\n",
    "TableNo INT,\n",
    "MenuID INT,\n",
    "BookingID INT,\n",
    "BillAmount INT,\n",
    "Quantity INT,\n",
    "PRIMARY KEY (OrderID,TableNo)\n",
    ");\"\"\""
   ]
  },
  {
   "cell_type": "code",
   "execution_count": 88,
   "id": "cc8f0439",
   "metadata": {},
   "outputs": [],
   "source": [
    "create_employees_table = \"\"\"CREATE TABLE Employees (\n",
    "EmployeeID INT AUTO_INCREMENT PRIMARY KEY,\n",
    "Name VARCHAR (255),\n",
    "Role VARCHAR (100),\n",
    "Address VARCHAR (255),\n",
    "Contact_Number INT,\n",
    "Email VARCHAR (255),\n",
    "Annual_Salary VARCHAR (100)\n",
    ");\"\"\""
   ]
  },
  {
   "cell_type": "code",
   "execution_count": 89,
   "id": "e7aa4c32",
   "metadata": {},
   "outputs": [],
   "source": [
    "# Create MenuItems table\n",
    "cursor.execute(create_menuitem_table)\n",
    "\n",
    "# Create Menu table\n",
    "cursor.execute(create_menu_table)\n",
    "\n",
    "# Create Bookings table\n",
    "cursor.execute(create_booking_table)\n",
    "\n",
    "# Create Orders table\n",
    "cursor.execute(create_orders_table)\n",
    "\n",
    "# Create Employees table\n",
    "cursor.execute(create_employees_table)"
   ]
  },
  {
   "cell_type": "code",
   "execution_count": 90,
   "id": "84db9057",
   "metadata": {},
   "outputs": [],
   "source": [
    "#*******************************************************#\n",
    "# Insert query to populate \"MenuItems\" table:\n",
    "#*******************************************************#\n",
    "insert_menuitems=\"\"\"\n",
    "INSERT INTO MenuItems (ItemID, Name, Type, Price)\n",
    "VALUES\n",
    "(1, 'Olives','Starters',5),\n",
    "(2, 'Flatbread','Starters', 5),\n",
    "(3, 'Minestrone', 'Starters', 8),\n",
    "(4, 'Tomato bread','Starters', 8),\n",
    "(5, 'Falafel', 'Starters', 7),\n",
    "(6, 'Hummus', 'Starters', 5),\n",
    "(7, 'Greek salad', 'Main Courses', 15),\n",
    "(8, 'Bean soup', 'Main Courses', 12),\n",
    "(9, 'Pizza', 'Main Courses', 15),\n",
    "(10, 'Greek yoghurt','Desserts', 7),\n",
    "(11, 'Ice cream', 'Desserts', 6),\n",
    "(12, 'Cheesecake', 'Desserts', 4),\n",
    "(13, 'Athens White wine', 'Drinks', 25),\n",
    "(14, 'Corfu Red Wine', 'Drinks', 30),\n",
    "(15, 'Turkish Coffee', 'Drinks', 10),\n",
    "(16, 'Turkish Coffee', 'Drinks', 10),\n",
    "(17, 'Kabasa', 'Main Courses', 17);\"\"\"\n",
    "\n",
    "#*******************************************************#\n",
    "# Insert query to populate \"Menu\" table:\n",
    "#*******************************************************#\n",
    "insert_menu=\"\"\"\n",
    "INSERT INTO Menus (MenuID,ItemID,Cuisine)\n",
    "VALUES\n",
    "(1, 1, 'Greek'),\n",
    "(1, 7, 'Greek'),\n",
    "(1, 10, 'Greek'),\n",
    "(1, 13, 'Greek'),\n",
    "(2, 3, 'Italian'),\n",
    "(2, 9, 'Italian'),\n",
    "(2, 12, 'Italian'),\n",
    "(2, 15, 'Italian'),\n",
    "(3, 5, 'Turkish'),\n",
    "(3, 17, 'Turkish'),\n",
    "(3, 11, 'Turkish'),\n",
    "(3, 16, 'Turkish');\"\"\"\n",
    "\n",
    "#*******************************************************#\n",
    "# Insert query to populate \"Bookings\" table:\n",
    "#*******************************************************#\n",
    "insert_bookings=\"\"\"\n",
    "INSERT INTO Bookings (BookingID, TableNo, GuestFirstName, \n",
    "GuestLastName, BookingSlot, EmployeeID)\n",
    "VALUES\n",
    "(1, 12, 'Anna','Iversen','19:00:00',1),\n",
    "(2, 12, 'Joakim', 'Iversen', '19:00:00', 1),\n",
    "(3, 19, 'Vanessa', 'McCarthy', '15:00:00', 3),\n",
    "(4, 15, 'Marcos', 'Romero', '17:30:00', 4),\n",
    "(5, 5, 'Hiroki', 'Yamane', '18:30:00', 2),\n",
    "(6, 8, 'Diana', 'Pinto', '20:00:00', 5);\"\"\"\n",
    "\n",
    "#*******************************************************#\n",
    "# Insert query to populate \"Orders\" table:\n",
    "#*******************************************************#\n",
    "insert_orders=\"\"\"\n",
    "INSERT INTO Orders (OrderID, TableNo, MenuID, BookingID, Quantity, BillAmount)\n",
    "VALUES\n",
    "(1, 12, 1, 1, 2, 86),\n",
    "(2, 19, 2, 2, 1, 37),\n",
    "(3, 15, 2, 3, 1, 37),\n",
    "(4, 5, 3, 4, 1, 40),\n",
    "(5, 8, 1, 5, 1, 43);\"\"\"\n",
    "\n",
    "#*******************************************************#\n",
    "# Insert query to populate \"Employees\" table:\n",
    "#*******************************************************#\n",
    "insert_employees = \"\"\"\n",
    "INSERT INTO employees VALUES\n",
    "(01,'Mario Gollini','Manager','724, Parsley Lane, Old Town, Chicago, IL',351258074,'Mario.g@littlelemon.com','$70,000'),\n",
    "(02,'Adrian Gollini','Assistant Manager','334, Dill Square, Lincoln Park, Chicago, IL',351474048,'Adrian.g@littlelemon.com','$65,000'),\n",
    "(03,'Giorgos Dioudis','Head Chef','879 Sage Street, West Loop, Chicago, IL',351970582,'Giorgos.d@littlelemon.com','$50,000'),\n",
    "(04,'Fatma Kaya','Assistant Chef','132  Bay Lane, Chicago, IL',351963569,'Fatma.k@littlelemon.com','$45,000'),\n",
    "(05,'Elena Salvai','Head Waiter','989 Thyme Square, EdgeWater, Chicago, IL',351074198,'Elena.s@littlelemon.com','$40,000'),\n",
    "(06,'John Millar','Receptionist','245 Dill Square, Lincoln Park, Chicago, IL',351584508,'John.m@littlelemon.com','$35,000');\n",
    "\"\"\"\n"
   ]
  },
  {
   "cell_type": "code",
   "execution_count": 91,
   "id": "8ab858ad",
   "metadata": {},
   "outputs": [],
   "source": [
    "# Populate MenuItems table\n",
    "cursor.execute(insert_menuitems)\n",
    "connection.commit()\n",
    "\n",
    "# Populate MenuItems table\n",
    "cursor.execute(insert_menu)\n",
    "connection.commit()\n",
    "\n",
    "# Populate Bookings table\n",
    "cursor.execute(insert_bookings)\n",
    "connection.commit()\n",
    "\n",
    "# Populate Orders table\n",
    "cursor.execute(insert_orders)\n",
    "connection.commit()\n",
    "\n",
    "# Populate Employees table\n",
    "cursor.execute(insert_employees)\n",
    "connection.commit()"
   ]
  },
  {
   "cell_type": "code",
   "execution_count": 92,
   "id": "dd2e8840",
   "metadata": {},
   "outputs": [],
   "source": [
    "dbconfig = {\"database\": \"little_lemon_dbv6\", \"user\": \"root\", \"password\": \"Fairfield2024!\"}"
   ]
  },
  {
   "cell_type": "markdown",
   "id": "bc8848a3",
   "metadata": {},
   "source": [
    "Task 1:"
   ]
  },
  {
   "cell_type": "code",
   "execution_count": 93,
   "id": "a3f55e2a",
   "metadata": {},
   "outputs": [
    {
     "name": "stdout",
     "output_type": "stream",
     "text": [
      "Connection pool 'pool_b' created successfully.\n"
     ]
    }
   ],
   "source": [
    "from mysql.connector import pooling, Error\n",
    "\n",
    "# Create a connection pool named 'pool_b' with two connections\n",
    "try:\n",
    "    pool_b = pooling.MySQLConnectionPool(pool_name=\"pool_b\", pool_size=2, **dbconfig)\n",
    "    \n",
    "    # Print success message\n",
    "    print(\"Connection pool 'pool_b' created successfully.\")\n",
    "\n",
    "except Error as e:\n",
    "    # Handle connection errors\n",
    "    print(\"Error:\", e)\n"
   ]
  },
  {
   "cell_type": "markdown",
   "id": "d3304a35",
   "metadata": {},
   "source": [
    "Task 2:"
   ]
  },
  {
   "cell_type": "code",
   "execution_count": 94,
   "id": "f0547a35",
   "metadata": {},
   "outputs": [
    {
     "name": "stdout",
     "output_type": "stream",
     "text": [
      "Bookings inserted successfully.\n"
     ]
    }
   ],
   "source": [
    "from mysql.connector import Error\n",
    "\n",
    "guests_data = [\n",
    "    {\"table_number\": 8, \"first_name\": \"Anees\", \"last_name\": \"Java\", \"booking_time\": \"18:00\", \"employee_id\": 6},\n",
    "    {\"table_number\": 5, \"first_name\": \"Bald\", \"last_name\": \"Vin\", \"booking_time\": \"19:00\", \"employee_id\": 6},\n",
    "    {\"table_number\": 12, \"first_name\": \"Jay\", \"last_name\": \"Kon\", \"booking_time\": \"19:30\", \"employee_id\": 6}\n",
    "]\n",
    "\n",
    "try:\n",
    "    # Get a connection from 'pool_b'\n",
    "    connection = pool_b.get_connection()\n",
    "    \n",
    "    # Insert data for each guest\n",
    "    cursor = connection.cursor()\n",
    "    insert_query = \"INSERT INTO Bookings (TableNo, GuestFirstName, GuestLastName, BookingSlot, EmployeeID) VALUES (%s, %s, %s, %s, %s)\"\n",
    "    for guest_data in guests_data:\n",
    "        booking_data = (guest_data[\"table_number\"], guest_data[\"first_name\"], guest_data[\"last_name\"], guest_data[\"booking_time\"], guest_data[\"employee_id\"])\n",
    "        cursor.execute(insert_query, booking_data)\n",
    "    connection.commit()\n",
    "    cursor.close()\n",
    "    \n",
    "    # Print success message\n",
    "    print(\"Bookings inserted successfully.\")\n",
    "    \n",
    "    # Return the connection back to the pool\n",
    "    connection.close()\n",
    "    \n",
    "except Error as e:\n",
    "    # Handle connection errors\n",
    "    print(\"Error:\", e)\n"
   ]
  },
  {
   "cell_type": "markdown",
   "id": "e1d702df",
   "metadata": {},
   "source": [
    "Task 3:"
   ]
  },
  {
   "cell_type": "code",
   "execution_count": 95,
   "id": "8fba6277",
   "metadata": {},
   "outputs": [
    {
     "name": "stdout",
     "output_type": "stream",
     "text": [
      "Little Lemon Employee with Title Manager: ('Mario Gollini', 1)\n",
      "Employee with Highest Annual Salary: ('Mario Gollini', 'Manager')\n",
      "Count of Guests Booked between 18:00 and 20:00: 7\n",
      "Guests Information Sorted by BookingSlot:\n",
      "Guest Name: Vanessa McCarthy | BookingID: 3\n",
      "Guest Name: Marcos Romero | BookingID: 4\n",
      "Guest Name: Anees Java | BookingID: 7\n",
      "Guest Name: Hiroki Yamane | BookingID: 5\n",
      "Guest Name: Anna Iversen | BookingID: 1\n",
      "Guest Name: Joakim Iversen | BookingID: 2\n",
      "Guest Name: Bald Vin | BookingID: 8\n",
      "Guest Name: Jay Kon | BookingID: 9\n",
      "Guest Name: Diana Pinto | BookingID: 6\n"
     ]
    }
   ],
   "source": [
    "try:\n",
    "    # Get a connection from 'pool_b'\n",
    "    connection = pool_b.get_connection()\n",
    "    cursor = connection.cursor()\n",
    "\n",
    "    # Query 1: Little Lemon employee with title \"Manager\"\n",
    "    query1 = \"SELECT Name, EmployeeID FROM employees WHERE Role = 'Manager'\"\n",
    "    cursor.execute(query1)\n",
    "    manager_info = cursor.fetchone()\n",
    "\n",
    "    # Query 2: Employee with highest Annual_Salary\n",
    "    query2 = \"SELECT Name, Role FROM employees WHERE Annual_Salary = (SELECT MAX(Annual_Salary) FROM employees)\"\n",
    "    cursor.execute(query2)\n",
    "    highest_salary_employee = cursor.fetchone()\n",
    "\n",
    "    # Query 3: Count of guests booked between 18:00 and 20:00\n",
    "    query3 = \"SELECT COUNT(*) FROM bookings WHERE BookingSlot BETWEEN '18:00' AND '20:00'\"\n",
    "    cursor.execute(query3)\n",
    "    guest_count = cursor.fetchone()[0]\n",
    "\n",
    "    # Query 4: Concatenated GuestFirstName and GuestLastName and associated BookingID sorted by BookingSlot\n",
    "    query4 = \"SELECT CONCAT(GuestFirstName, ' ', GuestLastName) AS GuestName, BookingID FROM bookings ORDER BY BookingSlot\"\n",
    "    cursor.execute(query4)\n",
    "    guest_info = cursor.fetchall()\n",
    "\n",
    "    # Print the report\n",
    "    print(\"Little Lemon Employee with Title Manager:\", manager_info)\n",
    "    print(\"Employee with Highest Annual Salary:\", highest_salary_employee)\n",
    "    print(\"Count of Guests Booked between 18:00 and 20:00:\", guest_count)\n",
    "    print(\"Guests Information Sorted by BookingSlot:\")\n",
    "    for guest in guest_info:\n",
    "        print(\"Guest Name:\", guest[0], \"| BookingID:\", guest[1])\n",
    "\n",
    "    # Return the connection back to the pool\n",
    "    connection.close()\n",
    "\n",
    "except Error as e:\n",
    "    # Handle connection errors\n",
    "    print(\"Error:\", e)\n"
   ]
  },
  {
   "cell_type": "markdown",
   "id": "60c9002a",
   "metadata": {},
   "source": [
    "Task 4:"
   ]
  },
  {
   "cell_type": "code",
   "execution_count": 102,
   "id": "1454777f",
   "metadata": {},
   "outputs": [
    {
     "name": "stdout",
     "output_type": "stream",
     "text": [
      "Stored procedure BasicSalesReport created successfully!\n",
      "[(Decimal('243'),)]\n",
      "[(Decimal('48.6000'),)]\n",
      "[(37,)]\n",
      "[(86,)]\n",
      "Connection closed.\n"
     ]
    }
   ],
   "source": [
    "import mysql.connector\n",
    "\n",
    "# Establish a connection to the MySQL database\n",
    "connection = mysql.connector.connect(\n",
    "    host=\"localhost\",\n",
    "    user=\"root\",\n",
    "    password=\"Fairfield2024!\",\n",
    "    database=\"little_lemon_dbv6\"\n",
    ")\n",
    "\n",
    "try:\n",
    "    if connection.is_connected():\n",
    "        # Create a cursor object\n",
    "        cursor = connection.cursor()\n",
    "\n",
    "        # Drop the stored procedure if it already exists\n",
    "        drop_procedure_query = \"DROP PROCEDURE IF EXISTS BasicSalesReport\"\n",
    "        cursor.execute(drop_procedure_query)\n",
    "        connection.commit()\n",
    "\n",
    "        # Define the SQL script to create the stored procedure\n",
    "        sql_script = \"\"\"\n",
    "        CREATE PROCEDURE BasicSalesReport()\n",
    "        BEGIN\n",
    "            -- Total sales\n",
    "            SELECT SUM(BillAmount) AS TotalSales FROM orders;\n",
    "\n",
    "            -- Average sale\n",
    "            SELECT AVG(BillAmount) AS AverageSale FROM orders;\n",
    "\n",
    "            -- Minimum bill paid\n",
    "            SELECT MIN(BillAmount) AS MinimumBillPaid FROM orders;\n",
    "\n",
    "            -- Maximum bill paid\n",
    "            SELECT MAX(BillAmount) AS MaximumBillPaid FROM orders;\n",
    "        END\n",
    "        \"\"\"\n",
    "\n",
    "        # Execute the SQL script to create the stored procedure\n",
    "        cursor.execute(sql_script)\n",
    "\n",
    "        # Commit the changes\n",
    "        connection.commit()\n",
    "\n",
    "        print(\"Stored procedure BasicSalesReport created successfully!\")\n",
    "\n",
    "        # Call the stored procedure BasicSalesReport\n",
    "        cursor.callproc(\"BasicSalesReport\")\n",
    "\n",
    "        # Fetch the results\n",
    "        for result in cursor.stored_results():\n",
    "            print(result.fetchall())\n",
    "\n",
    "        # Close the cursor\n",
    "        cursor.close()\n",
    "\n",
    "except mysql.connector.Error as error:\n",
    "    # Handle any errors that may occur during the execution\n",
    "    print(\"Error:\", error)\n",
    "\n",
    "    \n",
    "finally:\n",
    "    # Close the connection\n",
    "    if 'connection' in locals():\n",
    "        connection.close()\n",
    "        print(\"Connection closed.\")"
   ]
  },
  {
   "cell_type": "code",
   "execution_count": 103,
   "id": "310c64a8",
   "metadata": {},
   "outputs": [
    {
     "name": "stdout",
     "output_type": "stream",
     "text": [
      "- [BookingSlot]: 15:00:00\n",
      "- [Guest_name]: Vanessa McCarthy\n",
      "- [Assignment]: Assigned to: Giorgos Dioudis, Head Chef\n",
      "\n",
      "- [BookingSlot]: 17:30:00\n",
      "- [Guest_name]: Marcos Romero\n",
      "- [Assignment]: Assigned to: Fatma Kaya, Assistant Chef\n",
      "\n",
      "- [BookingSlot]: 18:00:00\n",
      "- [Guest_name]: Anees Java\n",
      "- [Assignment]: Assigned to: John Millar, Receptionist\n",
      "\n",
      "Connection closed.\n"
     ]
    }
   ],
   "source": [
    "import mysql.connector\n",
    "\n",
    "try:\n",
    "    # Get a connection from 'pool_b'\n",
    "    connection = pool_b.get_connection()\n",
    "    \n",
    "    # Create a buffered cursor\n",
    "    cursor = connection.cursor(buffered=True)\n",
    "    \n",
    "    # Combine data from the bookings and employee tables\n",
    "    query = \"\"\"\n",
    "    SELECT b.BookingSlot, CONCAT(b.GuestFirstName, ' ', b.GuestLastName) AS Guest_name, \n",
    "           CONCAT('Assigned to: ', e.Name, ', ', e.Role) AS Assignment\n",
    "    FROM Bookings b\n",
    "    JOIN Employees e ON b.EmployeeID = e.EmployeeID\n",
    "    ORDER BY b.BookingSlot ASC\n",
    "    LIMIT 3\n",
    "    \"\"\"\n",
    "    \n",
    "    # Execute the query\n",
    "    cursor.execute(query)\n",
    "    \n",
    "    # Fetch the results\n",
    "    results = cursor.fetchall()\n",
    "    \n",
    "    # Print the output\n",
    "    for result in results:\n",
    "        print(\"- [BookingSlot]:\", result[0])\n",
    "        print(\"- [Guest_name]:\", result[1])\n",
    "        print(\"- [Assignment]:\", result[2])\n",
    "        print()\n",
    "    \n",
    "except mysql.connector.Error as error:\n",
    "    # Handle any errors that may occur during the execution\n",
    "    print(\"Error:\", error)\n",
    "\n",
    "finally:\n",
    "    # Return the connection back to the pool\n",
    "    if 'connection' in locals():\n",
    "        connection.close()\n",
    "        print(\"Connection closed.\")\n"
   ]
  },
  {
   "cell_type": "code",
   "execution_count": null,
   "id": "a11884cd",
   "metadata": {},
   "outputs": [],
   "source": []
  }
 ],
 "metadata": {
  "kernelspec": {
   "display_name": "Python 3 (ipykernel)",
   "language": "python",
   "name": "python3"
  },
  "language_info": {
   "codemirror_mode": {
    "name": "ipython",
    "version": 3
   },
   "file_extension": ".py",
   "mimetype": "text/x-python",
   "name": "python",
   "nbconvert_exporter": "python",
   "pygments_lexer": "ipython3",
   "version": "3.9.13"
  }
 },
 "nbformat": 4,
 "nbformat_minor": 5
}
